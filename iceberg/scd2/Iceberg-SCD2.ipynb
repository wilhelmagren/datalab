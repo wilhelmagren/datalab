{
 "cells": [
  {
   "cell_type": "code",
   "execution_count": null,
   "id": "f38ed40b-8c2a-4691-a775-5c64aa1bce76",
   "metadata": {},
   "outputs": [],
   "source": [
    "from datetime import datetime\n",
    "from pathlib import Path\n",
    "from pyspark.sql import (\n",
    "    Row,\n",
    "    SparkSession,\n",
    ")\n",
    "from pyspark.sql.functions import lit\n",
    "\n",
    "CATALOG_NAME = \"scd_catalog\"\n",
    "WAREHOUSE_PATH = Path.cwd() / \"warehouse\"\n",
    "\n",
    "spark = SparkSession.builder \\\n",
    "    .appName(\"Iceberg SCD Type 2\") \\\n",
    "    .config(f\"spark.sql.catalog.{CATALOG_NAME}\", \"org.apache.iceberg.spark.SparkCatalog\") \\\n",
    "    .config(f\"spark.sql.catalog.{CATALOG_NAME}.type\", \"hadoop\") \\\n",
    "    .config(f\"spark.sql.catalog.{CATALOG_NAME}.warehouse\", str(WAREHOUSE_PATH)) \\\n",
    "    .config(\"spark.sql.defaultCatalog\", CATALOG_NAME) \\\n",
    "    .getOrCreate()\n",
    "\n"
   ]
  },
  {
   "cell_type": "code",
   "execution_count": null,
   "id": "33143746-0cd8-425c-ad31-531030093ded",
   "metadata": {},
   "outputs": [],
   "source": [
    "ut = datetime.now().strftime(\"%Y-%m-%dT%H:%M:%S\")\n",
    "product = [\n",
    "    {\"id\": \"00001\", \"name\": \"Heater\", \"price\": 250, \"category\": \"Electronics\", \"updated_at\": ut},\n",
    "    {\"id\": \"00002\", \"name\": \"Thermostat\", \"price\": 400, \"category\": \"Electronics\", \"updated_at\": ut},\n",
    "    {\"id\": \"00003\", \"name\": \"Television\", \"price\": 600, \"category\": \"Electronics\", \"updated_at\": ut},\n",
    "]\n",
    "\n",
    "df = spark.createDataFrame(Row(**x) for x in product)\n",
    "df.createOrReplaceTempView('tmp')\n",
    "\n",
    "spark.sql(f\"\"\"\n",
    "CREATE TABLE IF NOT EXISTS {CATALOG_NAME}.db.products USING iceberg LOCATION '{WAREHOUSE_PATH}'\n",
    "AS SELECT * FROM tmp\n",
    "\"\"\")\n"
   ]
  },
  {
   "cell_type": "code",
   "execution_count": null,
   "id": "5f55b7d6-c14c-4517-92dc-c2b2a29e802b",
   "metadata": {},
   "outputs": [],
   "source": [
    "updates = [\n",
    "    {\"id\": \"00001\", \"name\": \"Heater\", \"price\": 500, \"category\": \"Electronics\", \"updated_at\": ut},  # update\n",
    "    {\"id\": \"00004\", \"name\": \"Chair\", \"price\": 50, \"category\": \"Furniture\", \"updated_at\": ut},  # insert\n",
    "]\n",
    "\n",
    "df_updates = spark.createDataFrame(Row(**x) for x in updates)\n",
    "df_updates.createOrReplaceTempView(\"products_upsert\")\n"
   ]
  },
  {
   "cell_type": "code",
   "execution_count": null,
   "id": "39ea999f-fa21-4a1f-b770-b78f053d4047",
   "metadata": {},
   "outputs": [],
   "source": [
    "\n"
   ]
  },
  {
   "cell_type": "code",
   "execution_count": null,
   "id": "b9e82dda-78ae-440b-92c0-a0fc202fc2b6",
   "metadata": {},
   "outputs": [],
   "source": []
  }
 ],
 "metadata": {
  "kernelspec": {
   "display_name": "Python 3 (ipykernel)",
   "language": "python",
   "name": "python3"
  },
  "language_info": {
   "codemirror_mode": {
    "name": "ipython",
    "version": 3
   },
   "file_extension": ".py",
   "mimetype": "text/x-python",
   "name": "python",
   "nbconvert_exporter": "python",
   "pygments_lexer": "ipython3",
   "version": "3.9.6"
  }
 },
 "nbformat": 4,
 "nbformat_minor": 5
}
